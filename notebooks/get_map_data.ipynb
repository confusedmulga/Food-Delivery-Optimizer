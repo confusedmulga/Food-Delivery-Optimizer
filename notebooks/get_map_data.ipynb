{
 "cells": [
  {
   "cell_type": "code",
   "execution_count": null,
   "id": "699cd7e2",
   "metadata": {
    "vscode": {
     "languageId": "plaintext"
    }
   },
   "outputs": [],
   "source": [
    "import osmnx as ox\n",
    "\n",
    "place = \"Bangalore, India\"\n",
    "graph = ox.graph_from_place(place, network_type='drive')\n",
    "ox.save_graphml(graph, filepath=\"../data/bangalore.graphml\")\n"
   ]
  }
 ],
 "metadata": {
  "language_info": {
   "name": "python"
  }
 },
 "nbformat": 4,
 "nbformat_minor": 5
}
